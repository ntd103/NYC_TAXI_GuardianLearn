{
 "cells": [
  {
   "cell_type": "markdown",
   "id": "da428c6b",
   "metadata": {},
   "source": [
    "## Notebook 02 – Linear Regression (Spark)  \n",
    "**Mục tiêu**  \n",
    "1. Xây mô hình hồi quy tuyến tính trên dữ liệu NYC Taxi Trip Duration 2016 (đã EDA & làm sạch).  \n",
    "2. So sánh 3 phiên bản:  \n",
    "   * **Baseline LR** – đặc trưng gốc.  \n",
    "   * **+ Interaction** – thêm `distance_peak = distance_km × is_peak`.  \n",
    "   * **Optimized LR** – KMeans 10 cụm cho vị trí đón + Polynomial degree 2 cho `distance_km` + Elastic-Net (Ridge/Lasso) tìm tham số bằng Cross-Validation.  \n",
    "3. Đánh giá bằng RMSLE và RMSE (giây thực), chọn mô hình tốt nhất.  \n",
    "4. Lưu model\n"
   ]
  },
  {
   "cell_type": "code",
   "execution_count": 1,
   "id": "e4c81076",
   "metadata": {},
   "outputs": [
    {
     "name": "stdout",
     "output_type": "stream",
     "text": [
      "Rows: 1432677   Cols: 21\n"
     ]
    }
   ],
   "source": [
    "from pyspark.sql import SparkSession, functions as F\n",
    "from pyspark.ml import Pipeline\n",
    "from pyspark.ml.feature import (\n",
    "    VectorAssembler, StandardScaler,\n",
    "    StringIndexer, PolynomialExpansion\n",
    ")\n",
    "from pyspark.ml.clustering import KMeans\n",
    "from pyspark.ml.regression import LinearRegression\n",
    "from pyspark.ml.tuning import ParamGridBuilder, CrossValidator\n",
    "from pyspark.ml.evaluation import RegressionEvaluator\n",
    "import math\n",
    "\n",
    "spark = SparkSession.builder.appName(\"TaxiLR\").getOrCreate()\n",
    "DATA_PATH = \"/home/jovyan/work/data/processed/cleaned_data.csv\"\n",
    "\n",
    "df = (spark.read\n",
    "       .option(\"header\", True)\n",
    "       .option(\"inferSchema\", True)\n",
    "       .csv(DATA_PATH))\n",
    "\n",
    "print(\"Rows:\", df.count(), \"  Cols:\", len(df.columns))"
   ]
  },
  {
   "cell_type": "markdown",
   "id": "1f52ae06",
   "metadata": {},
   "source": [
    "### Đặc trưng gốc sử dụng\n",
    "\n",
    "Trước khi tiến hành xây dựng pipeline, chúng ta phân loại các feature theo 3 nhóm cơ bản:\n",
    "\n",
    "| Nhóm          | Cột                                                |\n",
    "|---------------|----------------------------------------------------|\n",
    "| Numeric       | `distance_km`, `pickup_hour`, `passenger_count`    |\n",
    "| Binary        | `is_peak`, `airport_trip`, `store_and_fwd_flag_num`|\n",
    "| Categorical   | `vendor_id`, `pickup_weekday`, `pickup_month`      |\n",
    "\n",
    "- **pickup_weekday** và **pickup_month** được bổ sung để khai thác thông tin tuần và tháng, nhằm bắt xu hướng theo thời gian.\n",
    "- **Nhãn** mục tiêu là `log_duration` (đã được log1p transform) giúp ổn định phương sai và phù hợp với RMSE trên log.\n",
    "\n"
   ]
  },
  {
   "cell_type": "markdown",
   "id": "57f2a357",
   "metadata": {},
   "source": [
    "## Định nghĩa hàm đánh giá mô hình\n",
    "\n",
    "Hàm `eval_metrics` tính toán ba chỉ số:\n",
    "1. **RMSE_log**: sai số gốc trên không gian log (tương đương RMSLE).  \n",
    "2. **RMSE_sec**: sai số trên đơn vị giây gốc (bằng cách expm1 kết quả).  \n",
    "3. **RMSLE**: root mean squared logarithmic error, thể hiện tương quan giữa sai số tương đối."
   ]
  },
  {
   "cell_type": "code",
   "execution_count": 2,
   "id": "c5a9178d",
   "metadata": {},
   "outputs": [],
   "source": [
    "def eval_metrics(pred_df):\n",
    "    # RMSE trên log (≈ RMSLE)\n",
    "    ev_log = RegressionEvaluator(labelCol=\"log_duration\",\n",
    "                                 predictionCol=\"prediction\",\n",
    "                                 metricName=\"rmse\")\n",
    "    rmse_log = ev_log.evaluate(pred_df)\n",
    "\n",
    "    exp_df = (pred_df\n",
    "             .withColumn(\"pred_sec\",  F.expm1(\"prediction\"))\n",
    "             .withColumn(\"label_sec\", F.expm1(\"log_duration\")))\n",
    "    # RMSE trên giây gốc\n",
    "    rmse_sec = RegressionEvaluator(labelCol=\"label_sec\",\n",
    "                                   predictionCol=\"pred_sec\",\n",
    "                                   metricName=\"rmse\").evaluate(exp_df)\n",
    "    # RMSLE\n",
    "    rmsle = (exp_df\n",
    "            .select(F.pow(F.log1p(\"pred_sec\") - F.log1p(\"label_sec\"), 2).alias(\"sq\"))\n",
    "            .agg(F.sqrt(F.mean(\"sq\")).alias(\"rmsle\"))\n",
    "            .first()[\"rmsle\"])\n",
    "    return rmse_log, rmse_sec, rmsle"
   ]
  },
  {
   "cell_type": "markdown",
   "id": "14abd12a",
   "metadata": {},
   "source": [
    "Baseline Linear Regression\n",
    "\n",
    "Pipeline baseline gồm:\n",
    "1. **StringIndexer** cho `vendor_id` chuyển thành `vendor_idx`.  \n",
    "2. **VectorAssembler** gom các feature raw thành vector.  \n",
    "3. **StandardScaler** chuẩn hóa về phân phối chuẩn.  \n",
    "4. **LinearRegression** trên target `log_duration`, với `maxIter=50`, `regParam=0.1`.\n",
    "\n",
    "Feature set gồm cả `pickup_weekday` và `pickup_month` để đánh giá tác động bổ sung."
   ]
  },
  {
   "cell_type": "code",
   "execution_count": 3,
   "id": "6d643fdc",
   "metadata": {},
   "outputs": [
    {
     "name": "stdout",
     "output_type": "stream",
     "text": [
      "Baseline → RMSE_sec=587.70s , RMSLE=0.5234\n"
     ]
    }
   ],
   "source": [
    "# Train–Test split\n",
    "train_df, test_df = df.randomSplit([0.7, 0.3], seed=42)\n",
    "\n",
    "# StringIndexer cho vendor_id\n",
    "vendor_idx = StringIndexer(inputCol=\"vendor_id\",\n",
    "                           outputCol=\"vendor_idx\",\n",
    "                           handleInvalid=\"keep\")\n",
    "\n",
    "# Features bao gồm giờ, ngày trong tuần, tháng\n",
    "features_base = [\n",
    "    \"distance_km\", \"pickup_hour\", \"passenger_count\",\n",
    "    \"is_peak\", \"airport_trip\", \"store_and_fwd_flag_num\",\n",
    "    \"pickup_weekday\", \"pickup_month\",\n",
    "    \"vendor_idx\"\n",
    "]\n",
    "\n",
    "assembler = VectorAssembler(inputCols=features_base,\n",
    "                            outputCol=\"features_raw\")\n",
    "scaler = StandardScaler(inputCol=\"features_raw\",\n",
    "                        outputCol=\"features\",\n",
    "                        withMean=True, withStd=True)\n",
    "\n",
    "lr = LinearRegression(featuresCol=\"features\",\n",
    "                      labelCol=\"log_duration\",\n",
    "                      maxIter=50, regParam=0.1)\n",
    "\n",
    "pipe_base = Pipeline(stages=[vendor_idx, assembler, scaler, lr])\n",
    "model_base = pipe_base.fit(train_df)\n",
    "pred_base  = model_base.transform(test_df)\n",
    "\n",
    "rmse_log_b, rmse_sec_b, rmsle_b = eval_metrics(pred_base)\n",
    "print(f\"Baseline → RMSE_sec={rmse_sec_b:.2f}s , RMSLE={rmsle_b:.4f}\")"
   ]
  },
  {
   "cell_type": "markdown",
   "id": "f3eb3465",
   "metadata": {},
   "source": [
    "Chúng tôi tạo thêm feature `distance_peak = distance_km × is_peak` để mô hình học tương tác giữa khoảng cách và giờ cao điểm.\n"
   ]
  },
  {
   "cell_type": "code",
   "execution_count": 4,
   "id": "9c4d6654",
   "metadata": {},
   "outputs": [
    {
     "name": "stdout",
     "output_type": "stream",
     "text": [
      "+Interaction → RMSE_sec=713.12s , RMSLE=0.5223\n"
     ]
    }
   ],
   "source": [
    "# Thêm interaction distance_peak\n",
    "df_int = df.withColumn(\"distance_peak\",\n",
    "                       F.col(\"distance_km\") * F.col(\"is_peak\"))\n",
    "\n",
    "train_i, test_i = df_int.randomSplit([0.7, 0.3], seed=42)\n",
    "\n",
    "features_int = features_base + [\"distance_peak\"]\n",
    "assembler_i  = VectorAssembler(inputCols=features_int,\n",
    "                                 outputCol=\"features_raw\")\n",
    "pipe_int = Pipeline(stages=[vendor_idx, assembler_i, scaler, lr])\n",
    "\n",
    "model_int = pipe_int.fit(train_i)\n",
    "pred_int  = model_int.transform(test_i)\n",
    "\n",
    "rmse_log_i, rmse_sec_i, rmsle_i = eval_metrics(pred_int)\n",
    "print(f\"+Interaction → RMSE_sec={rmse_sec_i:.2f}s , RMSLE={rmsle_i:.4f}\")"
   ]
  },
  {
   "cell_type": "markdown",
   "id": "cc66dad7",
   "metadata": {},
   "source": [
    "KMeans, Polynomial & Cross-Validation\n",
    "\n",
    "Để tối ưu hoá, chúng tôi thêm:\n",
    "1. **KMeans (k=10)** phân nhóm điểm đón (`pickup_cluster`).  \n",
    "2. Index hóa cluster thành `cluster_idx`.  \n",
    "3. Tạo `PolynomialExpansion(degree=2)` trên vector chuẩn hoá.  \n",
    "4. **CrossValidator** với grid search trên `regParam` và `elasticNetParam` của Linear Regression.\n"
   ]
  },
  {
   "cell_type": "code",
   "execution_count": 7,
   "id": "bbdd7599",
   "metadata": {},
   "outputs": [
    {
     "name": "stdout",
     "output_type": "stream",
     "text": [
      "Optimized → RMSE_sec=397.33s , RMSLE=0.4453\n",
      "Đã lưu model tại: /home/jovyan/work/models/lr_final_opt\n"
     ]
    }
   ],
   "source": [
    "# 1) Phân cụm vị trí đón bằng KMeans\n",
    "vec_pos = VectorAssembler(\n",
    "    inputCols=[\"pickup_longitude\",\"pickup_latitude\"],\n",
    "    outputCol=\"pos_vec\")\n",
    "df_pos = vec_pos.transform(df)\n",
    "\n",
    "km = KMeans(k=10, seed=42,\n",
    "            featuresCol=\"pos_vec\",\n",
    "            predictionCol=\"pickup_cluster\")\n",
    "df_km = km.fit(df_pos).transform(df_pos)\n",
    "\n",
    "cluster_idx = StringIndexer(inputCol=\"pickup_cluster\",\n",
    "                            outputCol=\"cluster_idx\",\n",
    "                            handleInvalid=\"keep\")\n",
    "df_km = cluster_idx.fit(df_km).transform(df_km)\n",
    "\n",
    "# 2) Xây dựng pipeline tối ưu\n",
    "features_km = features_base + [\"cluster_idx\"]\n",
    "assembler_km = VectorAssembler(inputCols=features_km,\n",
    "                               outputCol=\"features_raw\")\n",
    "scaler_km = StandardScaler(inputCol=\"features_raw\",\n",
    "                           outputCol=\"feat_scaled\",\n",
    "                           withMean=True, withStd=True)\n",
    "poly = PolynomialExpansion(degree=2,\n",
    "                           inputCol=\"feat_scaled\",\n",
    "                           outputCol=\"features\")\n",
    "\n",
    "lr_opt = LinearRegression(featuresCol=\"features\",\n",
    "                          labelCol=\"log_duration\",\n",
    "                          maxIter=100)\n",
    "\n",
    "pipe_opt = Pipeline(stages=[\n",
    "    vendor_idx,\n",
    "    assembler_km,\n",
    "    scaler_km,\n",
    "    poly,\n",
    "    lr_opt\n",
    "])\n",
    "\n",
    "evaluator = RegressionEvaluator(labelCol=\"log_duration\",\n",
    "                                predictionCol=\"prediction\",\n",
    "                                metricName=\"rmse\")\n",
    "\n",
    "paramGrid = (ParamGridBuilder()\n",
    "            .addGrid(lr_opt.regParam,       [0.01, 0.05, 0.1])\n",
    "            .addGrid(lr_opt.elasticNetParam, [0.0, 0.3, 0.7])\n",
    "            .build())\n",
    "\n",
    "cv = CrossValidator(estimator=pipe_opt,\n",
    "                    estimatorParamMaps=paramGrid,\n",
    "                    evaluator=evaluator,\n",
    "                    numFolds=3,\n",
    "                    parallelism=2)\n",
    "\n",
    "train_opt, test_opt = df_km.randomSplit([0.7,0.3], seed=42)\n",
    "cvModel = cv.fit(train_opt)\n",
    "best = cvModel.bestModel\n",
    "pred_opt = best.transform(test_opt)\n",
    "\n",
    "rmse_log_o, rmse_sec_o, rmsle_o = eval_metrics(pred_opt)\n",
    "print(f\"Optimized → RMSE_sec={rmse_sec_o:.2f}s , RMSLE={rmsle_o:.4f}\")\n",
    "\n",
    "best.write().overwrite().save(\"/home/jovyan/work/models/lr_final_opt\")\n",
    "print(\"Đã lưu model tại: /home/jovyan/work/models/lr_final_opt\")"
   ]
  },
  {
   "cell_type": "markdown",
   "id": "bcbda477",
   "metadata": {},
   "source": [
    "Tổng hợp kết quả ba phiên bản mô hình vào bảng để tiện so sánh.\n"
   ]
  },
  {
   "cell_type": "code",
   "execution_count": 6,
   "id": "49f3b415",
   "metadata": {},
   "outputs": [
    {
     "data": {
      "text/html": [
       "<div>\n",
       "<style scoped>\n",
       "    .dataframe tbody tr th:only-of-type {\n",
       "        vertical-align: middle;\n",
       "    }\n",
       "\n",
       "    .dataframe tbody tr th {\n",
       "        vertical-align: top;\n",
       "    }\n",
       "\n",
       "    .dataframe thead th {\n",
       "        text-align: right;\n",
       "    }\n",
       "</style>\n",
       "<table border=\"1\" class=\"dataframe\">\n",
       "  <thead>\n",
       "    <tr style=\"text-align: right;\">\n",
       "      <th></th>\n",
       "      <th>Model</th>\n",
       "      <th>RMSLE</th>\n",
       "      <th>RMSE_sec</th>\n",
       "    </tr>\n",
       "  </thead>\n",
       "  <tbody>\n",
       "    <tr>\n",
       "      <th>0</th>\n",
       "      <td>Baseline</td>\n",
       "      <td>0.523377</td>\n",
       "      <td>587.695269</td>\n",
       "    </tr>\n",
       "    <tr>\n",
       "      <th>1</th>\n",
       "      <td>Improved</td>\n",
       "      <td>0.522306</td>\n",
       "      <td>713.117842</td>\n",
       "    </tr>\n",
       "    <tr>\n",
       "      <th>2</th>\n",
       "      <td>Optimized</td>\n",
       "      <td>0.445333</td>\n",
       "      <td>397.334658</td>\n",
       "    </tr>\n",
       "  </tbody>\n",
       "</table>\n",
       "</div>"
      ],
      "text/plain": [
       "       Model     RMSLE    RMSE_sec\n",
       "0   Baseline  0.523377  587.695269\n",
       "1   Improved  0.522306  713.117842\n",
       "2  Optimized  0.445333  397.334658"
      ]
     },
     "metadata": {},
     "output_type": "display_data"
    }
   ],
   "source": [
    "import pandas as pd\n",
    "\n",
    "results = pd.DataFrame({\n",
    "    \"Model\":[\"Baseline\", \"Improved\", \"Optimized\"],\n",
    "    \"RMSLE\": [rmsle_b, rmsle_i, rmsle_o],\n",
    "    \"RMSE_sec\": [rmse_sec_b, rmse_sec_i, rmse_sec_o]\n",
    "})\n",
    "display(results)"
   ]
  }
 ],
 "metadata": {
  "kernelspec": {
   "display_name": "base",
   "language": "python",
   "name": "python3"
  },
  "language_info": {
   "codemirror_mode": {
    "name": "ipython",
    "version": 3
   },
   "file_extension": ".py",
   "mimetype": "text/x-python",
   "name": "python",
   "nbconvert_exporter": "python",
   "pygments_lexer": "ipython3",
   "version": "3.11.6"
  }
 },
 "nbformat": 4,
 "nbformat_minor": 5
}
